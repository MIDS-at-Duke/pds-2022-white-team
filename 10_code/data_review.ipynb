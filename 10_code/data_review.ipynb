{
 "cells": [
  {
   "cell_type": "code",
   "execution_count": 25,
   "metadata": {},
   "outputs": [],
   "source": [
    "import pandas as pd\n",
    "import numpy as np\n",
    "import difflib\n",
    "from difflib import SequenceMatcher\n"
   ]
  },
  {
   "cell_type": "markdown",
   "metadata": {},
   "source": [
    "## merge ship data and population data"
   ]
  },
  {
   "cell_type": "code",
   "execution_count": 3,
   "metadata": {},
   "outputs": [],
   "source": [
    "##########################################################\n",
    "######### ADD FIPS CODE TO OPIOID DATA ###################\n",
    "##########################################################\n",
    "\n",
    "\n",
    "import numpy as np\n",
    "import pandas as pd\n",
    "\n",
    "# Import aggregated drug data set\n",
    "# opioid_data = pd.read_csv(\n",
    "#    \"C:/Users/fabi3/Documents/PythonExercises/opioid_project/drug_data_woFIPS.csv\"\n",
    "# )\n",
    "\n",
    "opioid_data = pd.read_parquet(\"/Users/a563186832/Documents/GitHub/pds-2022-white-team/20_intermediate_files/opioid_data_woFIPS.parquet\", engine=\"fastparquet\")\n",
    "\n",
    "# Import FIPS data from US census\n",
    "url_fips = \"https://www2.census.gov/geo/docs/reference/codes/files/national_county.txt\"\n",
    "fips = pd.read_csv(\n",
    "    url_fips,\n",
    "    names=[\"StateName\", \"FIPS_State\", \"FIPS_County\", \"CountyName\", \"E\"],\n",
    "    dtype=\"string\",\n",
    ")\n",
    "\n",
    "# Create 5-digit county FIPS code by adding state and county FIPS codes\n",
    "fips[\"FIPS\"] = fips[\"FIPS_State\"] + fips[\"FIPS_County\"]\n",
    "\n",
    "# Only keep relevant columns\n",
    "fips = fips[[\"FIPS\", \"CountyName\", \"StateName\"]]\n",
    "\n",
    "# Harmonize county names in both data sets so that merging works properly\n",
    "fips[\"CountyName\"] = fips[\"CountyName\"].str.upper()\n",
    "\n",
    "char_to_replace_fips = {\n",
    "    \".\": \"\",\n",
    "    \" MUNICIPIO\": \"\",\n",
    "    \"-\": \"\",\n",
    "    \"'\": \"\",\n",
    "    \" COUNTY\": \"\",\n",
    "    \" PARISH\": \"\",\n",
    "    \" CITY AND BOROUGH\": \"\",\n",
    "    \" BOROUGH\": \"\",\n",
    "    \" CENSUS AREA\": \"\",\n",
    "    \" MUNICIPALITY\": \"\",\n",
    "    \" ISLANDS\": \"\",\n",
    "    \" ISLAND\": \"\",\n",
    "    \" \": \"\",\n",
    "}\n",
    "\n",
    "char_to_replace_opioid = {\n",
    "    \"SAINT \": \"ST \",\n",
    "    \"SAINTE \": \"STE \",\n",
    "    \"-\": \"\",\n",
    "    \" ISLANDS\": \"\",\n",
    "    \" ISLAND\": \"\",\n",
    "    \" \": \"\",\n",
    "}\n",
    "\n",
    "for key, value in char_to_replace_fips.items():\n",
    "    fips[\"CountyName\"] = fips[\"CountyName\"].str.replace(key, value, regex=True)\n",
    "\n",
    "for key, value in char_to_replace_opioid.items():\n",
    "    opioid_data[\"BUYER_COUNTY\"] = opioid_data[\"BUYER_COUNTY\"].str.replace(\n",
    "        key, value, regex=True\n",
    "    )\n",
    "\n",
    "\n",
    "# 3 cases must be solved manually\n",
    "opioid_data.loc[\n",
    "    (opioid_data[\"BUYER_COUNTY\"] == \"BRISTOL\") & (opioid_data[\"BUYER_STATE\"] == \"VA\"),\n",
    "    \"BUYER_COUNTY\",\n",
    "] = \"BRISTOLCITY\"\n",
    "opioid_data.loc[\n",
    "    (opioid_data[\"BUYER_COUNTY\"] == \"RADFORD\") & (opioid_data[\"BUYER_STATE\"] == \"VA\"),\n",
    "    \"BUYER_COUNTY\",\n",
    "] = \"RADFORDCITY\"\n",
    "opioid_data.loc[\n",
    "    (opioid_data[\"BUYER_COUNTY\"] == \"SALEM\") & (opioid_data[\"BUYER_STATE\"] == \"VA\"),\n",
    "    \"BUYER_COUNTY\",\n",
    "] = \"SALEMCITY\"\n",
    "# Add missing FIPS code for 1 US territory and 1 freely associated state which are part of the opioid data ste\n",
    "fips.loc[len(fips.index)] = [np.nan, \"PALAU\", \"PW\"]\n",
    "fips.loc[len(fips.index)] = [np.nan, \"NORTHERNMARIANA\", \"MP\"]\n",
    "\n",
    "\n",
    "# Merge FIPS data with opioid data\n",
    "merge = pd.merge(\n",
    "    opioid_data,\n",
    "    fips,\n",
    "    how=\"left\",\n",
    "    left_on=[\"BUYER_COUNTY\", \"BUYER_STATE\"],\n",
    "    right_on=[\"CountyName\", \"StateName\"],\n",
    "    validate=\"m:1\",\n",
    "    indicator=True,\n",
    ")\n",
    "\n",
    "# Check if merge was successful for all county\n",
    "merge[\"_merge\"].value_counts()\n",
    "\n",
    "# Run test to check if merge was succesful\n",
    "assert merge[\"_merge\"].value_counts()[0] == len(opioid_data)\n"
   ]
  },
  {
   "cell_type": "markdown",
   "metadata": {},
   "source": [
    "since the assert didn't break out, hence, we can conclude that our data is perfectly merged"
   ]
  },
  {
   "cell_type": "code",
   "execution_count": 6,
   "metadata": {},
   "outputs": [
    {
     "data": {
      "text/plain": [
       "array([2006., 2007., 2008., 2009., 2010., 2011., 2012., 2013., 2014.])"
      ]
     },
     "execution_count": 6,
     "metadata": {},
     "output_type": "execute_result"
    }
   ],
   "source": [
    "# then we check whether our data covered all years\n",
    "merge.year.unique()"
   ]
  },
  {
   "cell_type": "markdown",
   "metadata": {},
   "source": [
    "From the output, we covered all needed data to analyze the Washington Policy"
   ]
  },
  {
   "cell_type": "code",
   "execution_count": 11,
   "metadata": {},
   "outputs": [
    {
     "data": {
      "text/html": [
       "<div>\n",
       "<style scoped>\n",
       "    .dataframe tbody tr th:only-of-type {\n",
       "        vertical-align: middle;\n",
       "    }\n",
       "\n",
       "    .dataframe tbody tr th {\n",
       "        vertical-align: top;\n",
       "    }\n",
       "\n",
       "    .dataframe thead th {\n",
       "        text-align: right;\n",
       "    }\n",
       "</style>\n",
       "<table border=\"1\" class=\"dataframe\">\n",
       "  <thead>\n",
       "    <tr style=\"text-align: right;\">\n",
       "      <th></th>\n",
       "      <th>year</th>\n",
       "      <th>BUYER_COUNTY</th>\n",
       "      <th>BUYER_STATE</th>\n",
       "      <th>opioid_converted_grams</th>\n",
       "      <th>FIPS</th>\n",
       "    </tr>\n",
       "  </thead>\n",
       "  <tbody>\n",
       "    <tr>\n",
       "      <th>0</th>\n",
       "      <td>2006.0</td>\n",
       "      <td>ABBEVILLE</td>\n",
       "      <td>SC</td>\n",
       "      <td>3136.215389</td>\n",
       "      <td>45001</td>\n",
       "    </tr>\n",
       "    <tr>\n",
       "      <th>1</th>\n",
       "      <td>2006.0</td>\n",
       "      <td>ACADIA</td>\n",
       "      <td>LA</td>\n",
       "      <td>22401.553115</td>\n",
       "      <td>22001</td>\n",
       "    </tr>\n",
       "    <tr>\n",
       "      <th>2</th>\n",
       "      <td>2006.0</td>\n",
       "      <td>ACCOMACK</td>\n",
       "      <td>VA</td>\n",
       "      <td>4073.851376</td>\n",
       "      <td>51001</td>\n",
       "    </tr>\n",
       "    <tr>\n",
       "      <th>3</th>\n",
       "      <td>2006.0</td>\n",
       "      <td>ADA</td>\n",
       "      <td>ID</td>\n",
       "      <td>86952.634072</td>\n",
       "      <td>16001</td>\n",
       "    </tr>\n",
       "    <tr>\n",
       "      <th>4</th>\n",
       "      <td>2006.0</td>\n",
       "      <td>ADAIR</td>\n",
       "      <td>IA</td>\n",
       "      <td>1129.828425</td>\n",
       "      <td>19001</td>\n",
       "    </tr>\n",
       "  </tbody>\n",
       "</table>\n",
       "</div>"
      ],
      "text/plain": [
       "     year BUYER_COUNTY BUYER_STATE  opioid_converted_grams   FIPS\n",
       "0  2006.0    ABBEVILLE          SC             3136.215389  45001\n",
       "1  2006.0       ACADIA          LA            22401.553115  22001\n",
       "2  2006.0     ACCOMACK          VA             4073.851376  51001\n",
       "3  2006.0          ADA          ID            86952.634072  16001\n",
       "4  2006.0        ADAIR          IA             1129.828425  19001"
      ]
     },
     "execution_count": 11,
     "metadata": {},
     "output_type": "execute_result"
    }
   ],
   "source": [
    "merge = merge.drop(columns=[\"CountyName\", \"StateName\", \"_merge\"])\n",
    "merge.head()"
   ]
  },
  {
   "cell_type": "markdown",
   "metadata": {},
   "source": [
    "## merge shipment data with fips"
   ]
  },
  {
   "cell_type": "code",
   "execution_count": 12,
   "metadata": {},
   "outputs": [],
   "source": [
    "# \n",
    "df_pop = pd.read_parquet(\"/Users/a563186832/Documents/GitHub/pds-2022-white-team/20_intermediate_files/county_population.parquet\", engine=\"fastparquet\")\n",
    "df_ship_pop = pd.merge(merge,df_pop,how=\"left\",left_on=[\"FIPS\",\"year\"],right_on=[\"FIPS\",\"year\"],validate=\"m:1\",indicator=True)"
   ]
  },
  {
   "cell_type": "code",
   "execution_count": 15,
   "metadata": {},
   "outputs": [
    {
     "data": {
      "text/plain": [
       "array(['PR'], dtype=object)"
      ]
     },
     "execution_count": 15,
     "metadata": {},
     "output_type": "execute_result"
    }
   ],
   "source": [
    "# Check whether some state has no FIPS code\n",
    "df_ship_pop[df_ship_pop[\"_merge\"]==\"left_only\"].BUYER_STATE.unique()"
   ]
  },
  {
   "cell_type": "markdown",
   "metadata": {},
   "source": [
    "From the output, only PR is missing with FIPS. PR is Puerto Rico which is a  Caribbean island and unincorporated U.S. territory and is not influencial in our analysis. So, we can safely drop those missing observations"
   ]
  },
  {
   "cell_type": "code",
   "execution_count": 18,
   "metadata": {},
   "outputs": [],
   "source": [
    "df_ship_pop = df_ship_pop.drop(columns=[\"_merge\"])\n",
    "df_ship_pop.to_csv(\"./ship_pop.csv\",index=False)\n",
    "df_ship_pop.to_parquet(\"./ship_pop.parquet\",engine=\"fastparquet\")"
   ]
  },
  {
   "cell_type": "markdown",
   "metadata": {},
   "source": [
    "## merge overdose death data with population data"
   ]
  },
  {
   "cell_type": "code",
   "execution_count": 19,
   "metadata": {},
   "outputs": [
    {
     "data": {
      "text/html": [
       "<div>\n",
       "<style scoped>\n",
       "    .dataframe tbody tr th:only-of-type {\n",
       "        vertical-align: middle;\n",
       "    }\n",
       "\n",
       "    .dataframe tbody tr th {\n",
       "        vertical-align: top;\n",
       "    }\n",
       "\n",
       "    .dataframe thead th {\n",
       "        text-align: right;\n",
       "    }\n",
       "</style>\n",
       "<table border=\"1\" class=\"dataframe\">\n",
       "  <thead>\n",
       "    <tr style=\"text-align: right;\">\n",
       "      <th></th>\n",
       "      <th>County Code</th>\n",
       "      <th>Year</th>\n",
       "      <th>County</th>\n",
       "      <th>Deaths</th>\n",
       "    </tr>\n",
       "  </thead>\n",
       "  <tbody>\n",
       "    <tr>\n",
       "      <th>0</th>\n",
       "      <td>01003</td>\n",
       "      <td>2003.0</td>\n",
       "      <td>Baldwin County, AL</td>\n",
       "      <td>10.0</td>\n",
       "    </tr>\n",
       "    <tr>\n",
       "      <th>1</th>\n",
       "      <td>01003</td>\n",
       "      <td>2004.0</td>\n",
       "      <td>Baldwin County, AL</td>\n",
       "      <td>18.0</td>\n",
       "    </tr>\n",
       "    <tr>\n",
       "      <th>2</th>\n",
       "      <td>01003</td>\n",
       "      <td>2005.0</td>\n",
       "      <td>Baldwin County, AL</td>\n",
       "      <td>14.0</td>\n",
       "    </tr>\n",
       "    <tr>\n",
       "      <th>3</th>\n",
       "      <td>01003</td>\n",
       "      <td>2006.0</td>\n",
       "      <td>Baldwin County, AL</td>\n",
       "      <td>11.0</td>\n",
       "    </tr>\n",
       "    <tr>\n",
       "      <th>4</th>\n",
       "      <td>01003</td>\n",
       "      <td>2007.0</td>\n",
       "      <td>Baldwin County, AL</td>\n",
       "      <td>24.0</td>\n",
       "    </tr>\n",
       "  </tbody>\n",
       "</table>\n",
       "</div>"
      ],
      "text/plain": [
       "  County Code    Year              County  Deaths\n",
       "0       01003  2003.0  Baldwin County, AL    10.0\n",
       "1       01003  2004.0  Baldwin County, AL    18.0\n",
       "2       01003  2005.0  Baldwin County, AL    14.0\n",
       "3       01003  2006.0  Baldwin County, AL    11.0\n",
       "4       01003  2007.0  Baldwin County, AL    24.0"
      ]
     },
     "execution_count": 19,
     "metadata": {},
     "output_type": "execute_result"
    }
   ],
   "source": [
    "# load death data\n",
    "df_death= pd.read_parquet(\"/Users/a563186832/Documents/GitHub/pds-2022-white-team/20_intermediate_files/drug_overdosis_death.parquet\", engine=\"fastparquet\")\n",
    "df_death.head()"
   ]
  },
  {
   "cell_type": "code",
   "execution_count": 22,
   "metadata": {},
   "outputs": [],
   "source": [
    "# merge with fips data\n",
    "\n",
    "df_death_pop = pd.merge(df_death,df_pop,how=\"left\",left_on=[\"County Code\",\"Year\"],right_on=[\"FIPS\",\"year\"],validate=\"m:1\",indicator=True)"
   ]
  },
  {
   "cell_type": "code",
   "execution_count": 24,
   "metadata": {},
   "outputs": [
    {
     "data": {
      "text/plain": [
       "array(['Prince of Wales-Outer Ketchikan Census Area, AK',\n",
       "       'Skagway-Hoonah-Angoon Census Area, AK',\n",
       "       'Wrangell-Petersburg Census Area, AK', 'Bedford city, VA',\n",
       "       'Clifton Forge city, VA'], dtype=object)"
      ]
     },
     "execution_count": 24,
     "metadata": {},
     "output_type": "execute_result"
    }
   ],
   "source": [
    "df_death_pop[df_death_pop[\"_merge\"]==\"left_only\"].County.unique()"
   ]
  },
  {
   "cell_type": "markdown",
   "metadata": {},
   "source": [
    "From the output, we can see the counties which have no population data come from AK and VA. According to the instruction, we can safely ignore the Alaska area. Then we wento deal with the counties from VA"
   ]
  },
  {
   "cell_type": "markdown",
   "metadata": {},
   "source": [
    "From Google, we found the FIPS for Bedford city, VA is 51515 and Clifton Forge city, VA is 51560"
   ]
  },
  {
   "cell_type": "code",
   "execution_count": 35,
   "metadata": {},
   "outputs": [
    {
     "data": {
      "text/html": [
       "<div>\n",
       "<style scoped>\n",
       "    .dataframe tbody tr th:only-of-type {\n",
       "        vertical-align: middle;\n",
       "    }\n",
       "\n",
       "    .dataframe tbody tr th {\n",
       "        vertical-align: top;\n",
       "    }\n",
       "\n",
       "    .dataframe thead th {\n",
       "        text-align: right;\n",
       "    }\n",
       "</style>\n",
       "<table border=\"1\" class=\"dataframe\">\n",
       "  <thead>\n",
       "    <tr style=\"text-align: right;\">\n",
       "      <th></th>\n",
       "      <th>FIPS</th>\n",
       "      <th>year</th>\n",
       "      <th>population</th>\n",
       "    </tr>\n",
       "    <tr>\n",
       "      <th>index</th>\n",
       "      <th></th>\n",
       "      <th></th>\n",
       "      <th></th>\n",
       "    </tr>\n",
       "  </thead>\n",
       "  <tbody>\n",
       "  </tbody>\n",
       "</table>\n",
       "</div>"
      ],
      "text/plain": [
       "Empty DataFrame\n",
       "Columns: [FIPS, year, population]\n",
       "Index: []"
      ]
     },
     "execution_count": 35,
     "metadata": {},
     "output_type": "execute_result"
    }
   ],
   "source": [
    "df_pop[(df_pop.FIPS==51515) | (df_pop.FIPS==51560)]"
   ]
  },
  {
   "cell_type": "markdown",
   "metadata": {},
   "source": [
    "We found that the FIPS 51515 and 51560 are missing. Since we don't include the VA in our analysis (it is not a target nor in control group). Hence, we may safely drop it."
   ]
  },
  {
   "cell_type": "code",
   "execution_count": 36,
   "metadata": {},
   "outputs": [],
   "source": [
    "# drop left only\n",
    "df_death_pop = df_death_pop.loc[df_death_pop._merge==\"both\",:]\n",
    "# drop merge column\n",
    "df_death_pop = df_death_pop.drop(columns=[\"_merge\"])\n",
    "# write into parquet\n",
    "df_death_pop.to_parquet(\"./death_pop.parquet\",engine=\"fastparquet\")\n",
    "# write into csv\n",
    "df_death_pop.to_csv(\"./death_pop.csv\",index=False)"
   ]
  },
  {
   "cell_type": "code",
   "execution_count": null,
   "metadata": {},
   "outputs": [],
   "source": []
  }
 ],
 "metadata": {
  "kernelspec": {
   "display_name": "Python 3.7.4 ('base')",
   "language": "python",
   "name": "python3"
  },
  "language_info": {
   "codemirror_mode": {
    "name": "ipython",
    "version": 3
   },
   "file_extension": ".py",
   "mimetype": "text/x-python",
   "name": "python",
   "nbconvert_exporter": "python",
   "pygments_lexer": "ipython3",
   "version": "3.7.4"
  },
  "orig_nbformat": 4,
  "vscode": {
   "interpreter": {
    "hash": "2b63d4fe08b21e212dd447f1126f8114b87f188ecb3b855082142b699dd6d4e0"
   }
  }
 },
 "nbformat": 4,
 "nbformat_minor": 2
}
