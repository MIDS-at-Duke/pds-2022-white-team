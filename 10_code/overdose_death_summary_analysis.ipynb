{
 "cells": [
  {
   "cell_type": "code",
   "execution_count": 22,
   "metadata": {},
   "outputs": [],
   "source": [
    "import pandas as pd\n",
    "import numpy as np"
   ]
  },
  {
   "cell_type": "code",
   "execution_count": 23,
   "metadata": {},
   "outputs": [
    {
     "data": {
      "text/html": [
       "<div>\n",
       "<style scoped>\n",
       "    .dataframe tbody tr th:only-of-type {\n",
       "        vertical-align: middle;\n",
       "    }\n",
       "\n",
       "    .dataframe tbody tr th {\n",
       "        vertical-align: top;\n",
       "    }\n",
       "\n",
       "    .dataframe thead th {\n",
       "        text-align: right;\n",
       "    }\n",
       "</style>\n",
       "<table border=\"1\" class=\"dataframe\">\n",
       "  <thead>\n",
       "    <tr style=\"text-align: right;\">\n",
       "      <th></th>\n",
       "      <th>County Code</th>\n",
       "      <th>Year</th>\n",
       "      <th>County</th>\n",
       "      <th>Deaths</th>\n",
       "      <th>FIPS</th>\n",
       "      <th>year</th>\n",
       "      <th>population</th>\n",
       "      <th>death_per_capita</th>\n",
       "      <th>state</th>\n",
       "    </tr>\n",
       "    <tr>\n",
       "      <th>index</th>\n",
       "      <th></th>\n",
       "      <th></th>\n",
       "      <th></th>\n",
       "      <th></th>\n",
       "      <th></th>\n",
       "      <th></th>\n",
       "      <th></th>\n",
       "      <th></th>\n",
       "      <th></th>\n",
       "    </tr>\n",
       "  </thead>\n",
       "  <tbody>\n",
       "    <tr>\n",
       "      <th>0</th>\n",
       "      <td>01003</td>\n",
       "      <td>2003.0</td>\n",
       "      <td>Baldwin County, AL</td>\n",
       "      <td>10.0</td>\n",
       "      <td>01003</td>\n",
       "      <td>2003.0</td>\n",
       "      <td>151707.0</td>\n",
       "      <td>6.591654</td>\n",
       "      <td>AL</td>\n",
       "    </tr>\n",
       "    <tr>\n",
       "      <th>1</th>\n",
       "      <td>01003</td>\n",
       "      <td>2004.0</td>\n",
       "      <td>Baldwin County, AL</td>\n",
       "      <td>18.0</td>\n",
       "      <td>01003</td>\n",
       "      <td>2004.0</td>\n",
       "      <td>156573.0</td>\n",
       "      <td>11.496235</td>\n",
       "      <td>AL</td>\n",
       "    </tr>\n",
       "    <tr>\n",
       "      <th>2</th>\n",
       "      <td>01003</td>\n",
       "      <td>2005.0</td>\n",
       "      <td>Baldwin County, AL</td>\n",
       "      <td>14.0</td>\n",
       "      <td>01003</td>\n",
       "      <td>2005.0</td>\n",
       "      <td>162564.0</td>\n",
       "      <td>8.611993</td>\n",
       "      <td>AL</td>\n",
       "    </tr>\n",
       "    <tr>\n",
       "      <th>3</th>\n",
       "      <td>01003</td>\n",
       "      <td>2006.0</td>\n",
       "      <td>Baldwin County, AL</td>\n",
       "      <td>11.0</td>\n",
       "      <td>01003</td>\n",
       "      <td>2006.0</td>\n",
       "      <td>168516.0</td>\n",
       "      <td>6.527570</td>\n",
       "      <td>AL</td>\n",
       "    </tr>\n",
       "    <tr>\n",
       "      <th>4</th>\n",
       "      <td>01003</td>\n",
       "      <td>2007.0</td>\n",
       "      <td>Baldwin County, AL</td>\n",
       "      <td>24.0</td>\n",
       "      <td>01003</td>\n",
       "      <td>2007.0</td>\n",
       "      <td>172815.0</td>\n",
       "      <td>13.887683</td>\n",
       "      <td>AL</td>\n",
       "    </tr>\n",
       "  </tbody>\n",
       "</table>\n",
       "</div>"
      ],
      "text/plain": [
       "      County Code    Year              County  Deaths   FIPS    year  \\\n",
       "index                                                                  \n",
       "0           01003  2003.0  Baldwin County, AL    10.0  01003  2003.0   \n",
       "1           01003  2004.0  Baldwin County, AL    18.0  01003  2004.0   \n",
       "2           01003  2005.0  Baldwin County, AL    14.0  01003  2005.0   \n",
       "3           01003  2006.0  Baldwin County, AL    11.0  01003  2006.0   \n",
       "4           01003  2007.0  Baldwin County, AL    24.0  01003  2007.0   \n",
       "\n",
       "       population  death_per_capita state  \n",
       "index                                      \n",
       "0        151707.0          6.591654    AL  \n",
       "1        156573.0         11.496235    AL  \n",
       "2        162564.0          8.611993    AL  \n",
       "3        168516.0          6.527570    AL  \n",
       "4        172815.0         13.887683    AL  "
      ]
     },
     "execution_count": 23,
     "metadata": {},
     "output_type": "execute_result"
    }
   ],
   "source": [
    "death = pd.read_parquet('/Users/liuxiaoquan/Documents/GitHub/pds-2022-white-team/10_code/death_pop.parquet')\n",
    "death[\"death_per_capita\"] = (death[\"Deaths\"] / death[\"population\"])*100000\n",
    "death[\"state\"] = death[\"County\"].str.split(\", \").str[1]\n",
    "death.head()"
   ]
  },
  {
   "cell_type": "code",
   "execution_count": 24,
   "metadata": {},
   "outputs": [],
   "source": [
    "states_FL =[\"FL\",\"GA\", \"NC\", \"SC\"]\n",
    "states_TX =[\"TX\",\"OK\", \"AR\", \"NM\"]\n",
    "states_WA =[\"WA\",\"OR\", \"ID\", \"MT\"]\n"
   ]
  },
  {
   "cell_type": "code",
   "execution_count": 25,
   "metadata": {},
   "outputs": [
    {
     "data": {
      "text/html": [
       "<div>\n",
       "<style scoped>\n",
       "    .dataframe tbody tr th:only-of-type {\n",
       "        vertical-align: middle;\n",
       "    }\n",
       "\n",
       "    .dataframe tbody tr th {\n",
       "        vertical-align: top;\n",
       "    }\n",
       "\n",
       "    .dataframe thead th {\n",
       "        text-align: right;\n",
       "    }\n",
       "</style>\n",
       "<table border=\"1\" class=\"dataframe\">\n",
       "  <thead>\n",
       "    <tr style=\"text-align: right;\">\n",
       "      <th></th>\n",
       "      <th>County Code</th>\n",
       "      <th>Year</th>\n",
       "      <th>County</th>\n",
       "      <th>Deaths</th>\n",
       "      <th>FIPS</th>\n",
       "      <th>year</th>\n",
       "      <th>population</th>\n",
       "      <th>death_per_capita</th>\n",
       "      <th>state</th>\n",
       "    </tr>\n",
       "    <tr>\n",
       "      <th>index</th>\n",
       "      <th></th>\n",
       "      <th></th>\n",
       "      <th></th>\n",
       "      <th></th>\n",
       "      <th></th>\n",
       "      <th></th>\n",
       "      <th></th>\n",
       "      <th></th>\n",
       "      <th></th>\n",
       "    </tr>\n",
       "  </thead>\n",
       "  <tbody>\n",
       "    <tr>\n",
       "      <th>1137</th>\n",
       "      <td>12001</td>\n",
       "      <td>2003.0</td>\n",
       "      <td>Alachua County, FL</td>\n",
       "      <td>11.0</td>\n",
       "      <td>12001</td>\n",
       "      <td>2003.0</td>\n",
       "      <td>225862.0</td>\n",
       "      <td>4.870230</td>\n",
       "      <td>FL</td>\n",
       "    </tr>\n",
       "    <tr>\n",
       "      <th>1138</th>\n",
       "      <td>12001</td>\n",
       "      <td>2007.0</td>\n",
       "      <td>Alachua County, FL</td>\n",
       "      <td>17.0</td>\n",
       "      <td>12001</td>\n",
       "      <td>2007.0</td>\n",
       "      <td>240196.0</td>\n",
       "      <td>7.077553</td>\n",
       "      <td>FL</td>\n",
       "    </tr>\n",
       "    <tr>\n",
       "      <th>1139</th>\n",
       "      <td>12001</td>\n",
       "      <td>2009.0</td>\n",
       "      <td>Alachua County, FL</td>\n",
       "      <td>15.0</td>\n",
       "      <td>12001</td>\n",
       "      <td>2009.0</td>\n",
       "      <td>243574.0</td>\n",
       "      <td>6.158293</td>\n",
       "      <td>FL</td>\n",
       "    </tr>\n",
       "    <tr>\n",
       "      <th>1140</th>\n",
       "      <td>12001</td>\n",
       "      <td>2010.0</td>\n",
       "      <td>Alachua County, FL</td>\n",
       "      <td>15.0</td>\n",
       "      <td>12001</td>\n",
       "      <td>2010.0</td>\n",
       "      <td>247614.0</td>\n",
       "      <td>6.057816</td>\n",
       "      <td>FL</td>\n",
       "    </tr>\n",
       "    <tr>\n",
       "      <th>1141</th>\n",
       "      <td>12001</td>\n",
       "      <td>2011.0</td>\n",
       "      <td>Alachua County, FL</td>\n",
       "      <td>14.0</td>\n",
       "      <td>12001</td>\n",
       "      <td>2011.0</td>\n",
       "      <td>249834.0</td>\n",
       "      <td>5.603721</td>\n",
       "      <td>FL</td>\n",
       "    </tr>\n",
       "  </tbody>\n",
       "</table>\n",
       "</div>"
      ],
      "text/plain": [
       "      County Code    Year              County  Deaths   FIPS    year  \\\n",
       "index                                                                  \n",
       "1137        12001  2003.0  Alachua County, FL    11.0  12001  2003.0   \n",
       "1138        12001  2007.0  Alachua County, FL    17.0  12001  2007.0   \n",
       "1139        12001  2009.0  Alachua County, FL    15.0  12001  2009.0   \n",
       "1140        12001  2010.0  Alachua County, FL    15.0  12001  2010.0   \n",
       "1141        12001  2011.0  Alachua County, FL    14.0  12001  2011.0   \n",
       "\n",
       "       population  death_per_capita state  \n",
       "index                                      \n",
       "1137     225862.0          4.870230    FL  \n",
       "1138     240196.0          7.077553    FL  \n",
       "1139     243574.0          6.158293    FL  \n",
       "1140     247614.0          6.057816    FL  \n",
       "1141     249834.0          5.603721    FL  "
      ]
     },
     "execution_count": 25,
     "metadata": {},
     "output_type": "execute_result"
    }
   ],
   "source": [
    "df_FL = death[death[\"state\"].isin(states_FL)]\n",
    "df_FL.head()\n"
   ]
  },
  {
   "cell_type": "code",
   "execution_count": 26,
   "metadata": {},
   "outputs": [
    {
     "data": {
      "text/html": [
       "<div>\n",
       "<style scoped>\n",
       "    .dataframe tbody tr th:only-of-type {\n",
       "        vertical-align: middle;\n",
       "    }\n",
       "\n",
       "    .dataframe tbody tr th {\n",
       "        vertical-align: top;\n",
       "    }\n",
       "\n",
       "    .dataframe thead th {\n",
       "        text-align: right;\n",
       "    }\n",
       "</style>\n",
       "<table border=\"1\" class=\"dataframe\">\n",
       "  <thead>\n",
       "    <tr style=\"text-align: right;\">\n",
       "      <th></th>\n",
       "      <th>County Code</th>\n",
       "      <th>Year</th>\n",
       "      <th>County</th>\n",
       "      <th>Deaths</th>\n",
       "      <th>FIPS</th>\n",
       "      <th>year</th>\n",
       "      <th>population</th>\n",
       "      <th>death_per_capita</th>\n",
       "      <th>state</th>\n",
       "    </tr>\n",
       "    <tr>\n",
       "      <th>index</th>\n",
       "      <th></th>\n",
       "      <th></th>\n",
       "      <th></th>\n",
       "      <th></th>\n",
       "      <th></th>\n",
       "      <th></th>\n",
       "      <th></th>\n",
       "      <th></th>\n",
       "      <th></th>\n",
       "    </tr>\n",
       "  </thead>\n",
       "  <tbody>\n",
       "    <tr>\n",
       "      <th>307</th>\n",
       "      <td>05007</td>\n",
       "      <td>2005.0</td>\n",
       "      <td>Benton County, AR</td>\n",
       "      <td>10.0</td>\n",
       "      <td>05007</td>\n",
       "      <td>2005.0</td>\n",
       "      <td>192183.0</td>\n",
       "      <td>5.203374</td>\n",
       "      <td>AR</td>\n",
       "    </tr>\n",
       "    <tr>\n",
       "      <th>308</th>\n",
       "      <td>05007</td>\n",
       "      <td>2006.0</td>\n",
       "      <td>Benton County, AR</td>\n",
       "      <td>10.0</td>\n",
       "      <td>05007</td>\n",
       "      <td>2006.0</td>\n",
       "      <td>201509.0</td>\n",
       "      <td>4.962558</td>\n",
       "      <td>AR</td>\n",
       "    </tr>\n",
       "    <tr>\n",
       "      <th>309</th>\n",
       "      <td>05007</td>\n",
       "      <td>2007.0</td>\n",
       "      <td>Benton County, AR</td>\n",
       "      <td>13.0</td>\n",
       "      <td>05007</td>\n",
       "      <td>2007.0</td>\n",
       "      <td>210963.0</td>\n",
       "      <td>6.162218</td>\n",
       "      <td>AR</td>\n",
       "    </tr>\n",
       "    <tr>\n",
       "      <th>310</th>\n",
       "      <td>05007</td>\n",
       "      <td>2008.0</td>\n",
       "      <td>Benton County, AR</td>\n",
       "      <td>12.0</td>\n",
       "      <td>05007</td>\n",
       "      <td>2008.0</td>\n",
       "      <td>219494.0</td>\n",
       "      <td>5.467120</td>\n",
       "      <td>AR</td>\n",
       "    </tr>\n",
       "    <tr>\n",
       "      <th>311</th>\n",
       "      <td>05007</td>\n",
       "      <td>2009.0</td>\n",
       "      <td>Benton County, AR</td>\n",
       "      <td>15.0</td>\n",
       "      <td>05007</td>\n",
       "      <td>2009.0</td>\n",
       "      <td>225504.0</td>\n",
       "      <td>6.651767</td>\n",
       "      <td>AR</td>\n",
       "    </tr>\n",
       "  </tbody>\n",
       "</table>\n",
       "</div>"
      ],
      "text/plain": [
       "      County Code    Year             County  Deaths   FIPS    year  \\\n",
       "index                                                                 \n",
       "307         05007  2005.0  Benton County, AR    10.0  05007  2005.0   \n",
       "308         05007  2006.0  Benton County, AR    10.0  05007  2006.0   \n",
       "309         05007  2007.0  Benton County, AR    13.0  05007  2007.0   \n",
       "310         05007  2008.0  Benton County, AR    12.0  05007  2008.0   \n",
       "311         05007  2009.0  Benton County, AR    15.0  05007  2009.0   \n",
       "\n",
       "       population  death_per_capita state  \n",
       "index                                      \n",
       "307      192183.0          5.203374    AR  \n",
       "308      201509.0          4.962558    AR  \n",
       "309      210963.0          6.162218    AR  \n",
       "310      219494.0          5.467120    AR  \n",
       "311      225504.0          6.651767    AR  "
      ]
     },
     "execution_count": 26,
     "metadata": {},
     "output_type": "execute_result"
    }
   ],
   "source": [
    "df_TX = death[death[\"state\"].isin(states_TX)]\n",
    "df_TX.head()"
   ]
  },
  {
   "cell_type": "code",
   "execution_count": 27,
   "metadata": {},
   "outputs": [
    {
     "data": {
      "text/html": [
       "<div>\n",
       "<style scoped>\n",
       "    .dataframe tbody tr th:only-of-type {\n",
       "        vertical-align: middle;\n",
       "    }\n",
       "\n",
       "    .dataframe tbody tr th {\n",
       "        vertical-align: top;\n",
       "    }\n",
       "\n",
       "    .dataframe thead th {\n",
       "        text-align: right;\n",
       "    }\n",
       "</style>\n",
       "<table border=\"1\" class=\"dataframe\">\n",
       "  <thead>\n",
       "    <tr style=\"text-align: right;\">\n",
       "      <th></th>\n",
       "      <th>County Code</th>\n",
       "      <th>Year</th>\n",
       "      <th>County</th>\n",
       "      <th>Deaths</th>\n",
       "      <th>FIPS</th>\n",
       "      <th>year</th>\n",
       "      <th>population</th>\n",
       "      <th>death_per_capita</th>\n",
       "      <th>state</th>\n",
       "    </tr>\n",
       "    <tr>\n",
       "      <th>index</th>\n",
       "      <th></th>\n",
       "      <th></th>\n",
       "      <th></th>\n",
       "      <th></th>\n",
       "      <th></th>\n",
       "      <th></th>\n",
       "      <th></th>\n",
       "      <th></th>\n",
       "      <th></th>\n",
       "    </tr>\n",
       "  </thead>\n",
       "  <tbody>\n",
       "    <tr>\n",
       "      <th>1932</th>\n",
       "      <td>16001</td>\n",
       "      <td>2003.0</td>\n",
       "      <td>Ada County, ID</td>\n",
       "      <td>17.0</td>\n",
       "      <td>16001</td>\n",
       "      <td>2003.0</td>\n",
       "      <td>326207.0</td>\n",
       "      <td>5.211415</td>\n",
       "      <td>ID</td>\n",
       "    </tr>\n",
       "    <tr>\n",
       "      <th>1933</th>\n",
       "      <td>16001</td>\n",
       "      <td>2004.0</td>\n",
       "      <td>Ada County, ID</td>\n",
       "      <td>21.0</td>\n",
       "      <td>16001</td>\n",
       "      <td>2004.0</td>\n",
       "      <td>333270.0</td>\n",
       "      <td>6.301197</td>\n",
       "      <td>ID</td>\n",
       "    </tr>\n",
       "    <tr>\n",
       "      <th>1934</th>\n",
       "      <td>16001</td>\n",
       "      <td>2005.0</td>\n",
       "      <td>Ada County, ID</td>\n",
       "      <td>20.0</td>\n",
       "      <td>16001</td>\n",
       "      <td>2005.0</td>\n",
       "      <td>346612.0</td>\n",
       "      <td>5.770141</td>\n",
       "      <td>ID</td>\n",
       "    </tr>\n",
       "    <tr>\n",
       "      <th>1935</th>\n",
       "      <td>16001</td>\n",
       "      <td>2006.0</td>\n",
       "      <td>Ada County, ID</td>\n",
       "      <td>32.0</td>\n",
       "      <td>16001</td>\n",
       "      <td>2006.0</td>\n",
       "      <td>360869.0</td>\n",
       "      <td>8.867484</td>\n",
       "      <td>ID</td>\n",
       "    </tr>\n",
       "    <tr>\n",
       "      <th>1936</th>\n",
       "      <td>16001</td>\n",
       "      <td>2007.0</td>\n",
       "      <td>Ada County, ID</td>\n",
       "      <td>32.0</td>\n",
       "      <td>16001</td>\n",
       "      <td>2007.0</td>\n",
       "      <td>372467.0</td>\n",
       "      <td>8.591365</td>\n",
       "      <td>ID</td>\n",
       "    </tr>\n",
       "  </tbody>\n",
       "</table>\n",
       "</div>"
      ],
      "text/plain": [
       "      County Code    Year          County  Deaths   FIPS    year  population  \\\n",
       "index                                                                          \n",
       "1932        16001  2003.0  Ada County, ID    17.0  16001  2003.0    326207.0   \n",
       "1933        16001  2004.0  Ada County, ID    21.0  16001  2004.0    333270.0   \n",
       "1934        16001  2005.0  Ada County, ID    20.0  16001  2005.0    346612.0   \n",
       "1935        16001  2006.0  Ada County, ID    32.0  16001  2006.0    360869.0   \n",
       "1936        16001  2007.0  Ada County, ID    32.0  16001  2007.0    372467.0   \n",
       "\n",
       "       death_per_capita state  \n",
       "index                          \n",
       "1932           5.211415    ID  \n",
       "1933           6.301197    ID  \n",
       "1934           5.770141    ID  \n",
       "1935           8.867484    ID  \n",
       "1936           8.591365    ID  "
      ]
     },
     "execution_count": 27,
     "metadata": {},
     "output_type": "execute_result"
    }
   ],
   "source": [
    "df_WA = death[death[\"state\"].isin(states_WA)]\n",
    "df_WA.head()"
   ]
  },
  {
   "cell_type": "code",
   "execution_count": 28,
   "metadata": {},
   "outputs": [],
   "source": [
    "df_FL_pre = df_FL[df_FL[\"Year\"] < 2010]\n",
    "df_FL_post = df_FL[df_FL[\"Year\"] >= 2010]\n",
    "\n",
    "df_TX_pre = df_TX[df_TX[\"Year\"] < 2007]\n",
    "df_TX_post = df_TX[df_TX[\"Year\"] >= 2007]\n",
    "\n",
    "df_WA_pre = df_WA[df_WA[\"Year\"] < 2011]\n",
    "df_WA_post = df_WA[df_WA[\"Year\"] >= 2011]"
   ]
  },
  {
   "cell_type": "markdown",
   "metadata": {},
   "source": [
    "## Florida and control groups"
   ]
  },
  {
   "cell_type": "code",
   "execution_count": 29,
   "metadata": {},
   "outputs": [],
   "source": [
    "pre_FL = df_FL_pre.loc[df_FL_pre[\"state\"] == \"FL\"][\"death_per_capita\"].describe()\n",
    "pre_FL_x = df_FL_pre.loc[df_FL_pre[\"state\"] != \"FL\"][\"death_per_capita\"].describe()"
   ]
  },
  {
   "cell_type": "code",
   "execution_count": 30,
   "metadata": {},
   "outputs": [
    {
     "data": {
      "text/plain": [
       "count    238.000000\n",
       "mean      14.573195\n",
       "std        6.126528\n",
       "min        3.833930\n",
       "25%       10.245732\n",
       "50%       14.203485\n",
       "75%       18.033330\n",
       "max       35.191188\n",
       "Name: death_per_capita, dtype: float64"
      ]
     },
     "execution_count": 30,
     "metadata": {},
     "output_type": "execute_result"
    }
   ],
   "source": [
    "pre_FL"
   ]
  },
  {
   "cell_type": "code",
   "execution_count": 31,
   "metadata": {},
   "outputs": [
    {
     "data": {
      "text/plain": [
       "count    426.000000\n",
       "mean      12.623492\n",
       "std        6.632218\n",
       "min        3.034743\n",
       "25%        7.696585\n",
       "50%       11.356289\n",
       "75%       15.802985\n",
       "max       45.283545\n",
       "Name: death_per_capita, dtype: float64"
      ]
     },
     "execution_count": 31,
     "metadata": {},
     "output_type": "execute_result"
    }
   ],
   "source": [
    "pre_FL_x"
   ]
  },
  {
   "cell_type": "code",
   "execution_count": 32,
   "metadata": {},
   "outputs": [],
   "source": [
    "post_FL = df_FL_post.loc[df_FL_post[\"state\"] == \"FL\"][\"death_per_capita\"].describe()\n",
    "post_FL_x = df_FL_post.loc[df_FL_post[\"state\"] != \"FL\"][\"death_per_capita\"].describe()"
   ]
  },
  {
   "cell_type": "code",
   "execution_count": 33,
   "metadata": {},
   "outputs": [
    {
     "data": {
      "text/plain": [
       "count    220.000000\n",
       "mean      14.916235\n",
       "std        6.354556\n",
       "min        3.902273\n",
       "25%       10.608172\n",
       "50%       14.079517\n",
       "75%       18.562625\n",
       "max       40.822181\n",
       "Name: death_per_capita, dtype: float64"
      ]
     },
     "execution_count": 33,
     "metadata": {},
     "output_type": "execute_result"
    }
   ],
   "source": [
    "post_FL"
   ]
  },
  {
   "cell_type": "code",
   "execution_count": 34,
   "metadata": {},
   "outputs": [
    {
     "data": {
      "text/plain": [
       "count    493.000000\n",
       "mean      14.746785\n",
       "std        7.139818\n",
       "min        4.737091\n",
       "25%        9.955796\n",
       "50%       13.400818\n",
       "75%       17.652251\n",
       "max       62.545990\n",
       "Name: death_per_capita, dtype: float64"
      ]
     },
     "execution_count": 34,
     "metadata": {},
     "output_type": "execute_result"
    }
   ],
   "source": [
    "post_FL_x"
   ]
  },
  {
   "cell_type": "markdown",
   "metadata": {},
   "source": [
    "## Texas and control groups"
   ]
  },
  {
   "cell_type": "code",
   "execution_count": 35,
   "metadata": {},
   "outputs": [
    {
     "data": {
      "text/plain": [
       "count    112.000000\n",
       "mean      10.139981\n",
       "std        6.565256\n",
       "min        1.462589\n",
       "25%        5.846029\n",
       "50%        9.321408\n",
       "75%       11.604912\n",
       "max       41.553616\n",
       "Name: death_per_capita, dtype: float64"
      ]
     },
     "execution_count": 35,
     "metadata": {},
     "output_type": "execute_result"
    }
   ],
   "source": [
    "pre_TX = df_TX_pre.loc[df_TX_pre[\"state\"] == \"TX\"][\"death_per_capita\"].describe()\n",
    "pre_TX_x = df_TX_pre.loc[df_TX_pre[\"state\"] != \"TX\"][\"death_per_capita\"].describe()\n",
    "pre_TX"
   ]
  },
  {
   "cell_type": "code",
   "execution_count": 36,
   "metadata": {},
   "outputs": [
    {
     "data": {
      "text/plain": [
       "count    62.000000\n",
       "mean     17.521025\n",
       "std       9.181076\n",
       "min       4.496949\n",
       "25%      10.765703\n",
       "50%      16.501420\n",
       "75%      22.119003\n",
       "max      46.754269\n",
       "Name: death_per_capita, dtype: float64"
      ]
     },
     "execution_count": 36,
     "metadata": {},
     "output_type": "execute_result"
    }
   ],
   "source": [
    "pre_TX_x"
   ]
  },
  {
   "cell_type": "code",
   "execution_count": 37,
   "metadata": {},
   "outputs": [
    {
     "data": {
      "text/plain": [
       "count    320.000000\n",
       "mean      10.384817\n",
       "std        4.994228\n",
       "min        1.796832\n",
       "25%        7.301707\n",
       "50%        9.570469\n",
       "75%       12.315773\n",
       "max       35.445390\n",
       "Name: death_per_capita, dtype: float64"
      ]
     },
     "execution_count": 37,
     "metadata": {},
     "output_type": "execute_result"
    }
   ],
   "source": [
    "post_TX = df_TX_post.loc[df_TX_post[\"state\"] == \"TX\"][\"death_per_capita\"].describe()\n",
    "post_TX_x = df_TX_post.loc[df_TX_post[\"state\"] != \"TX\"][\"death_per_capita\"].describe()\n",
    "post_TX"
   ]
  },
  {
   "cell_type": "code",
   "execution_count": 38,
   "metadata": {},
   "outputs": [
    {
     "data": {
      "text/plain": [
       "count    268.000000\n",
       "mean      19.992620\n",
       "std       11.485947\n",
       "min        4.593650\n",
       "25%       12.278379\n",
       "50%       17.737213\n",
       "75%       24.699526\n",
       "max       98.147775\n",
       "Name: death_per_capita, dtype: float64"
      ]
     },
     "execution_count": 38,
     "metadata": {},
     "output_type": "execute_result"
    }
   ],
   "source": [
    "post_TX_x"
   ]
  },
  {
   "cell_type": "markdown",
   "metadata": {},
   "source": [
    "## Washington and control groups"
   ]
  },
  {
   "cell_type": "code",
   "execution_count": 39,
   "metadata": {},
   "outputs": [
    {
     "data": {
      "text/plain": [
       "count    119.000000\n",
       "mean      13.283688\n",
       "std        5.363315\n",
       "min        4.257475\n",
       "25%        9.302213\n",
       "50%       13.002576\n",
       "75%       16.027192\n",
       "max       31.407035\n",
       "Name: death_per_capita, dtype: float64"
      ]
     },
     "execution_count": 39,
     "metadata": {},
     "output_type": "execute_result"
    }
   ],
   "source": [
    "pre_WA = df_WA_pre.loc[df_WA_pre[\"state\"] == \"WA\"][\"death_per_capita\"].describe()\n",
    "pre_WA_x = df_WA_pre.loc[df_WA_pre[\"state\"] != \"WA\"][\"death_per_capita\"].describe()\n",
    "pre_WA"
   ]
  },
  {
   "cell_type": "code",
   "execution_count": 40,
   "metadata": {},
   "outputs": [
    {
     "data": {
      "text/plain": [
       "count    87.000000\n",
       "mean     11.050669\n",
       "std       5.510466\n",
       "min       3.555719\n",
       "25%       7.305310\n",
       "50%       9.434344\n",
       "75%      12.678880\n",
       "max      33.384928\n",
       "Name: death_per_capita, dtype: float64"
      ]
     },
     "execution_count": 40,
     "metadata": {},
     "output_type": "execute_result"
    }
   ],
   "source": [
    "pre_WA_x"
   ]
  },
  {
   "cell_type": "code",
   "execution_count": 41,
   "metadata": {},
   "outputs": [
    {
     "data": {
      "text/plain": [
       "count    79.000000\n",
       "mean     13.973270\n",
       "std       4.745924\n",
       "min       5.679859\n",
       "25%      10.256195\n",
       "50%      13.658590\n",
       "75%      16.628521\n",
       "max      26.390640\n",
       "Name: death_per_capita, dtype: float64"
      ]
     },
     "execution_count": 41,
     "metadata": {},
     "output_type": "execute_result"
    }
   ],
   "source": [
    "post_WA = df_WA_post.loc[df_WA_post[\"state\"] == \"WA\"][\"death_per_capita\"].describe()\n",
    "post_WA_x = df_WA_post.loc[df_WA_post[\"state\"] != \"WA\"][\"death_per_capita\"].describe()\n",
    "post_WA"
   ]
  },
  {
   "cell_type": "code",
   "execution_count": 42,
   "metadata": {},
   "outputs": [
    {
     "data": {
      "text/plain": [
       "count    81.000000\n",
       "mean     12.660200\n",
       "std       5.598490\n",
       "min       3.390531\n",
       "25%       8.956985\n",
       "50%      11.340762\n",
       "75%      15.277187\n",
       "max      30.735128\n",
       "Name: death_per_capita, dtype: float64"
      ]
     },
     "execution_count": 42,
     "metadata": {},
     "output_type": "execute_result"
    }
   ],
   "source": [
    "post_WA_x"
   ]
  },
  {
   "cell_type": "code",
   "execution_count": null,
   "metadata": {},
   "outputs": [],
   "source": []
  }
 ],
 "metadata": {
  "kernelspec": {
   "display_name": "Python 3.10.6 ('base')",
   "language": "python",
   "name": "python3"
  },
  "language_info": {
   "codemirror_mode": {
    "name": "ipython",
    "version": 3
   },
   "file_extension": ".py",
   "mimetype": "text/x-python",
   "name": "python",
   "nbconvert_exporter": "python",
   "pygments_lexer": "ipython3",
   "version": "3.10.6"
  },
  "orig_nbformat": 4,
  "vscode": {
   "interpreter": {
    "hash": "3d597f4c481aa0f25dceb95d2a0067e73c0966dcbd003d741d821a7208527ecf"
   }
  }
 },
 "nbformat": 4,
 "nbformat_minor": 2
}
