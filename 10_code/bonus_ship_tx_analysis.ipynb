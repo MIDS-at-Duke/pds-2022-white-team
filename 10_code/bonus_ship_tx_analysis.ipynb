{
 "cells": [
  {
   "cell_type": "markdown",
   "metadata": {},
   "source": [
    "# Bonus Part"
   ]
  },
  {
   "cell_type": "code",
   "execution_count": 1,
   "metadata": {},
   "outputs": [],
   "source": [
    "import pandas as pd\n",
    "import numpy as np\n",
    "from plotnine import *\n",
    "from warnings import filterwarnings\n",
    "ignore = filterwarnings('ignore')"
   ]
  },
  {
   "cell_type": "markdown",
   "metadata": {},
   "source": [
    "## Merge the data"
   ]
  },
  {
   "cell_type": "code",
   "execution_count": 2,
   "metadata": {},
   "outputs": [],
   "source": [
    "dfm = pd.read_parquet('./opioid_data_woFIPS_monthly.parquet')"
   ]
  },
  {
   "cell_type": "code",
   "execution_count": 3,
   "metadata": {},
   "outputs": [
    {
     "data": {
      "text/html": [
       "<div>\n",
       "<style scoped>\n",
       "    .dataframe tbody tr th:only-of-type {\n",
       "        vertical-align: middle;\n",
       "    }\n",
       "\n",
       "    .dataframe tbody tr th {\n",
       "        vertical-align: top;\n",
       "    }\n",
       "\n",
       "    .dataframe thead th {\n",
       "        text-align: right;\n",
       "    }\n",
       "</style>\n",
       "<table border=\"1\" class=\"dataframe\">\n",
       "  <thead>\n",
       "    <tr style=\"text-align: right;\">\n",
       "      <th></th>\n",
       "      <th>year</th>\n",
       "      <th>month</th>\n",
       "      <th>BUYER_COUNTY</th>\n",
       "      <th>BUYER_STATE</th>\n",
       "      <th>opioid_converted_grams</th>\n",
       "    </tr>\n",
       "  </thead>\n",
       "  <tbody>\n",
       "    <tr>\n",
       "      <th>0</th>\n",
       "      <td>2006.0</td>\n",
       "      <td>1.0</td>\n",
       "      <td>ABBEVILLE</td>\n",
       "      <td>SC</td>\n",
       "      <td>243.682305</td>\n",
       "    </tr>\n",
       "    <tr>\n",
       "      <th>1</th>\n",
       "      <td>2006.0</td>\n",
       "      <td>1.0</td>\n",
       "      <td>ACADIA</td>\n",
       "      <td>LA</td>\n",
       "      <td>1810.621586</td>\n",
       "    </tr>\n",
       "    <tr>\n",
       "      <th>2</th>\n",
       "      <td>2006.0</td>\n",
       "      <td>1.0</td>\n",
       "      <td>ACCOMACK</td>\n",
       "      <td>VA</td>\n",
       "      <td>358.726238</td>\n",
       "    </tr>\n",
       "    <tr>\n",
       "      <th>3</th>\n",
       "      <td>2006.0</td>\n",
       "      <td>1.0</td>\n",
       "      <td>ADA</td>\n",
       "      <td>ID</td>\n",
       "      <td>6531.421777</td>\n",
       "    </tr>\n",
       "    <tr>\n",
       "      <th>4</th>\n",
       "      <td>2006.0</td>\n",
       "      <td>1.0</td>\n",
       "      <td>ADAIR</td>\n",
       "      <td>IA</td>\n",
       "      <td>58.947713</td>\n",
       "    </tr>\n",
       "  </tbody>\n",
       "</table>\n",
       "</div>"
      ],
      "text/plain": [
       "     year  month BUYER_COUNTY BUYER_STATE  opioid_converted_grams\n",
       "0  2006.0    1.0    ABBEVILLE          SC              243.682305\n",
       "1  2006.0    1.0       ACADIA          LA             1810.621586\n",
       "2  2006.0    1.0     ACCOMACK          VA              358.726238\n",
       "3  2006.0    1.0          ADA          ID             6531.421777\n",
       "4  2006.0    1.0        ADAIR          IA               58.947713"
      ]
     },
     "execution_count": 3,
     "metadata": {},
     "output_type": "execute_result"
    }
   ],
   "source": [
    "dfm.head()"
   ]
  },
  {
   "cell_type": "code",
   "execution_count": 4,
   "metadata": {},
   "outputs": [],
   "source": [
    "left = dfm[dfm['BUYER_STATE'].isin([\"TX\", \"MS\", \"MT\", \"CT\"])]\n",
    "# left.BUYER_STATE.unique() #check the state"
   ]
  },
  {
   "cell_type": "code",
   "execution_count": 5,
   "metadata": {},
   "outputs": [],
   "source": [
    "# Read in the data\n",
    "df = pd.read_parquet('./ship_pop_monthly.parquet')\n",
    "df.head()\n",
    "right = df[df['BUYER_STATE'].isin([\"TX\", \"MS\", \"MT\", \"CT\"])].loc[:, ['year','BUYER_COUNTY','BUYER_STATE','population']]\n",
    "# right.BUYER_STATE.unique() # check the state"
   ]
  },
  {
   "cell_type": "code",
   "execution_count": 6,
   "metadata": {},
   "outputs": [],
   "source": [
    "df_month = pd.merge(left, right, on = ['year','BUYER_COUNTY','BUYER_STATE'], how = 'left')"
   ]
  },
  {
   "cell_type": "markdown",
   "metadata": {},
   "source": [
    "After checking the NA in the data set *df_month*, we realize that there exist nan in the population data."
   ]
  },
  {
   "cell_type": "code",
   "execution_count": 7,
   "metadata": {},
   "outputs": [
    {
     "data": {
      "text/html": [
       "<div>\n",
       "<style scoped>\n",
       "    .dataframe tbody tr th:only-of-type {\n",
       "        vertical-align: middle;\n",
       "    }\n",
       "\n",
       "    .dataframe tbody tr th {\n",
       "        vertical-align: top;\n",
       "    }\n",
       "\n",
       "    .dataframe thead th {\n",
       "        text-align: right;\n",
       "    }\n",
       "</style>\n",
       "<table border=\"1\" class=\"dataframe\">\n",
       "  <thead>\n",
       "    <tr style=\"text-align: right;\">\n",
       "      <th></th>\n",
       "      <th>year</th>\n",
       "      <th>month</th>\n",
       "      <th>BUYER_COUNTY</th>\n",
       "      <th>BUYER_STATE</th>\n",
       "      <th>opioid_converted_grams</th>\n",
       "      <th>population</th>\n",
       "      <th>opioid_per_capita</th>\n",
       "    </tr>\n",
       "  </thead>\n",
       "  <tbody>\n",
       "    <tr>\n",
       "      <th>0</th>\n",
       "      <td>2006.0</td>\n",
       "      <td>1.0</td>\n",
       "      <td>ADAMS</td>\n",
       "      <td>MS</td>\n",
       "      <td>759.026502</td>\n",
       "      <td>32110.0</td>\n",
       "      <td>0.009579</td>\n",
       "    </tr>\n",
       "    <tr>\n",
       "      <th>1</th>\n",
       "      <td>2006.0</td>\n",
       "      <td>1.0</td>\n",
       "      <td>ADAMS</td>\n",
       "      <td>MS</td>\n",
       "      <td>759.026502</td>\n",
       "      <td>32110.0</td>\n",
       "      <td>0.030387</td>\n",
       "    </tr>\n",
       "    <tr>\n",
       "      <th>2</th>\n",
       "      <td>2006.0</td>\n",
       "      <td>1.0</td>\n",
       "      <td>ADAMS</td>\n",
       "      <td>MS</td>\n",
       "      <td>759.026502</td>\n",
       "      <td>32110.0</td>\n",
       "      <td>0.009298</td>\n",
       "    </tr>\n",
       "    <tr>\n",
       "      <th>3</th>\n",
       "      <td>2006.0</td>\n",
       "      <td>1.0</td>\n",
       "      <td>ADAMS</td>\n",
       "      <td>MS</td>\n",
       "      <td>759.026502</td>\n",
       "      <td>32110.0</td>\n",
       "      <td>0.018099</td>\n",
       "    </tr>\n",
       "    <tr>\n",
       "      <th>4</th>\n",
       "      <td>2006.0</td>\n",
       "      <td>1.0</td>\n",
       "      <td>ADAMS</td>\n",
       "      <td>MS</td>\n",
       "      <td>759.026502</td>\n",
       "      <td>32110.0</td>\n",
       "      <td>0.007678</td>\n",
       "    </tr>\n",
       "  </tbody>\n",
       "</table>\n",
       "</div>"
      ],
      "text/plain": [
       "     year  month BUYER_COUNTY BUYER_STATE  opioid_converted_grams  population  \\\n",
       "0  2006.0    1.0        ADAMS          MS              759.026502     32110.0   \n",
       "1  2006.0    1.0        ADAMS          MS              759.026502     32110.0   \n",
       "2  2006.0    1.0        ADAMS          MS              759.026502     32110.0   \n",
       "3  2006.0    1.0        ADAMS          MS              759.026502     32110.0   \n",
       "4  2006.0    1.0        ADAMS          MS              759.026502     32110.0   \n",
       "\n",
       "   opioid_per_capita  \n",
       "0           0.009579  \n",
       "1           0.030387  \n",
       "2           0.009298  \n",
       "3           0.018099  \n",
       "4           0.007678  "
      ]
     },
     "execution_count": 7,
     "metadata": {},
     "output_type": "execute_result"
    }
   ],
   "source": [
    "# calculate the opioid per capita - we don't have the data for monthly population, so we just use the yearly one\n",
    "df_month[\"opioid_per_capita\"] = df[\"opioid_converted_grams\"] / df[\"population\"]\n",
    "df_month.head()"
   ]
  },
  {
   "cell_type": "code",
   "execution_count": 8,
   "metadata": {},
   "outputs": [],
   "source": [
    "df_month.loc[:, \"Months from Policy Change\"] = (df_month['year'] - 2007)*12 + df_month['month'] - 1"
   ]
  },
  {
   "cell_type": "code",
   "execution_count": 9,
   "metadata": {},
   "outputs": [],
   "source": [
    "df_month.loc[:,\"Policy Change\"] = df_month[\"Months from Policy Change\"] > 0"
   ]
  },
  {
   "cell_type": "code",
   "execution_count": 10,
   "metadata": {},
   "outputs": [
    {
     "data": {
      "text/html": [
       "<div>\n",
       "<style scoped>\n",
       "    .dataframe tbody tr th:only-of-type {\n",
       "        vertical-align: middle;\n",
       "    }\n",
       "\n",
       "    .dataframe tbody tr th {\n",
       "        vertical-align: top;\n",
       "    }\n",
       "\n",
       "    .dataframe thead th {\n",
       "        text-align: right;\n",
       "    }\n",
       "</style>\n",
       "<table border=\"1\" class=\"dataframe\">\n",
       "  <thead>\n",
       "    <tr style=\"text-align: right;\">\n",
       "      <th></th>\n",
       "      <th>year</th>\n",
       "      <th>month</th>\n",
       "      <th>BUYER_COUNTY</th>\n",
       "      <th>BUYER_STATE</th>\n",
       "      <th>opioid_converted_grams</th>\n",
       "      <th>population</th>\n",
       "      <th>opioid_per_capita</th>\n",
       "      <th>Months from Policy Change</th>\n",
       "      <th>Policy Change</th>\n",
       "    </tr>\n",
       "  </thead>\n",
       "  <tbody>\n",
       "    <tr>\n",
       "      <th>0</th>\n",
       "      <td>2006.0</td>\n",
       "      <td>1.0</td>\n",
       "      <td>ADAMS</td>\n",
       "      <td>MS</td>\n",
       "      <td>759.026502</td>\n",
       "      <td>32110.0</td>\n",
       "      <td>0.009579</td>\n",
       "      <td>-12.0</td>\n",
       "      <td>False</td>\n",
       "    </tr>\n",
       "    <tr>\n",
       "      <th>1</th>\n",
       "      <td>2006.0</td>\n",
       "      <td>1.0</td>\n",
       "      <td>ADAMS</td>\n",
       "      <td>MS</td>\n",
       "      <td>759.026502</td>\n",
       "      <td>32110.0</td>\n",
       "      <td>0.030387</td>\n",
       "      <td>-12.0</td>\n",
       "      <td>False</td>\n",
       "    </tr>\n",
       "    <tr>\n",
       "      <th>2</th>\n",
       "      <td>2006.0</td>\n",
       "      <td>1.0</td>\n",
       "      <td>ADAMS</td>\n",
       "      <td>MS</td>\n",
       "      <td>759.026502</td>\n",
       "      <td>32110.0</td>\n",
       "      <td>0.009298</td>\n",
       "      <td>-12.0</td>\n",
       "      <td>False</td>\n",
       "    </tr>\n",
       "    <tr>\n",
       "      <th>3</th>\n",
       "      <td>2006.0</td>\n",
       "      <td>1.0</td>\n",
       "      <td>ADAMS</td>\n",
       "      <td>MS</td>\n",
       "      <td>759.026502</td>\n",
       "      <td>32110.0</td>\n",
       "      <td>0.018099</td>\n",
       "      <td>-12.0</td>\n",
       "      <td>False</td>\n",
       "    </tr>\n",
       "    <tr>\n",
       "      <th>4</th>\n",
       "      <td>2006.0</td>\n",
       "      <td>1.0</td>\n",
       "      <td>ADAMS</td>\n",
       "      <td>MS</td>\n",
       "      <td>759.026502</td>\n",
       "      <td>32110.0</td>\n",
       "      <td>0.007678</td>\n",
       "      <td>-12.0</td>\n",
       "      <td>False</td>\n",
       "    </tr>\n",
       "  </tbody>\n",
       "</table>\n",
       "</div>"
      ],
      "text/plain": [
       "     year  month BUYER_COUNTY BUYER_STATE  opioid_converted_grams  population  \\\n",
       "0  2006.0    1.0        ADAMS          MS              759.026502     32110.0   \n",
       "1  2006.0    1.0        ADAMS          MS              759.026502     32110.0   \n",
       "2  2006.0    1.0        ADAMS          MS              759.026502     32110.0   \n",
       "3  2006.0    1.0        ADAMS          MS              759.026502     32110.0   \n",
       "4  2006.0    1.0        ADAMS          MS              759.026502     32110.0   \n",
       "\n",
       "   opioid_per_capita  Months from Policy Change  Policy Change  \n",
       "0           0.009579                      -12.0          False  \n",
       "1           0.030387                      -12.0          False  \n",
       "2           0.009298                      -12.0          False  \n",
       "3           0.018099                      -12.0          False  \n",
       "4           0.007678                      -12.0          False  "
      ]
     },
     "execution_count": 10,
     "metadata": {},
     "output_type": "execute_result"
    }
   ],
   "source": [
    "df_month.head()"
   ]
  },
  {
   "cell_type": "markdown",
   "metadata": {},
   "source": [
    "## Pre-Post"
   ]
  },
  {
   "cell_type": "code",
   "execution_count": 11,
   "metadata": {},
   "outputs": [],
   "source": [
    "dftx = df_month[df_month[\"BUYER_STATE\"] == \"TX\"]"
   ]
  },
  {
   "cell_type": "code",
   "execution_count": 14,
   "metadata": {},
   "outputs": [
    {
     "data": {
      "image/png": "[encoded data removed]",
      "text/plain": [
       "<Figure size 640x480 with 1 Axes>"
      ]
     },
     "metadata": {},
     "output_type": "display_data"
    },
    {
     "name": "stdout",
     "output_type": "stream",
     "text": [
      "\n"
     ]
    }
   ],
   "source": [
    "treated_success = dftx[dftx[\"Policy Change\"]]\n",
    "g_pp = (\n",
    "    ggplot(treated_success, aes(x=\"Months from Policy Change\", y=\"opioid_per_capita\"))\n",
    "    \n",
    "    + geom_smooth(\n",
    "        method=\"lm\",\n",
    "        data=dftx[dftx[\"Months from Policy Change\"] < 0],\n",
    "    )\n",
    "    + geom_smooth(\n",
    "        method=\"lm\",\n",
    "        data=treated_success[treated_success[\"Months from Policy Change\"] >= 0],\n",
    "    )\n",
    "    + geom_vline(xintercept=0, linetype=\"dashed\")\n",
    "    + geom_text(x=0, y=0.35, label=\"Policy Change\", color=\"black\")\n",
    "    + labs(y = \"Opioid Per Capita\", title=\"Pre-Post Model Graph, Policy Intervention\")\n",
    ")\n",
    "print(g_pp)"
   ]
  },
  {
   "cell_type": "markdown",
   "metadata": {},
   "source": [
    "In the left part of the chart the slope is sharper than the right's, which means the opioid converted amount per caipita increased year by year in Texas before January 2007. After the policy became effecive in January 2007, the trend is still increasing, but the gradient is smaller in the right part. Therefore, we may conclude that the policy restricted the opioid converted amount.\n"
   ]
  },
  {
   "cell_type": "code",
   "execution_count": 15,
   "metadata": {},
   "outputs": [],
   "source": [
    "g_pp.save(\"tx_monthly_prepost_successful.pdf\")"
   ]
  },
  {
   "cell_type": "markdown",
   "metadata": {},
   "source": [
    "## DID"
   ]
  },
  {
   "cell_type": "code",
   "execution_count": 16,
   "metadata": {},
   "outputs": [],
   "source": [
    "# Select the states that we want to use as control group\n",
    "texas_compare = df_month[df_month[\"BUYER_STATE\"].isin([\"MS\", \"MT\", \"CT\"])]"
   ]
  },
  {
   "cell_type": "code",
   "execution_count": 17,
   "metadata": {},
   "outputs": [],
   "source": [
    "texas_compare[\"Compare\"] = \"Control Group\"\n",
    "dftx[\"Compare\"] = \"Texas\""
   ]
  },
  {
   "cell_type": "code",
   "execution_count": 21,
   "metadata": {},
   "outputs": [],
   "source": [
    "# texas_compare['BUYER_STATE'].unique()\n",
    "# texas_compare.head()\n",
    "# dftx.head()"
   ]
  },
  {
   "cell_type": "code",
   "execution_count": 22,
   "metadata": {},
   "outputs": [],
   "source": [
    "success_model = dftx[[\"Policy Change\",\"Months from Policy Change\",\"opioid_per_capita\",\"Compare\"]].copy()"
   ]
  },
  {
   "cell_type": "code",
   "execution_count": 23,
   "metadata": {},
   "outputs": [
    {
     "data": {
      "image/png": "[encoded data removed]",
      "text/plain": [
       "<Figure size 640x480 with 1 Axes>"
      ]
     },
     "metadata": {},
     "output_type": "display_data"
    },
    {
     "name": "stdout",
     "output_type": "stream",
     "text": [
      "\n"
     ]
    }
   ],
   "source": [
    "\n",
    "g_did = (\n",
    "    ggplot(\n",
    "        success_model,\n",
    "        aes(x=\"Months from Policy Change\", y=\"opioid_per_capita\", color=\"Compare\"),\n",
    "    )\n",
    "    + geom_smooth(\n",
    "        method=\"lm\", data=success_model[success_model[\"Months from Policy Change\"] < 0]\n",
    "    )\n",
    "    + geom_smooth(\n",
    "        method=\"lm\", data=success_model[success_model[\"Months from Policy Change\"] >= 0]\n",
    "    )\n",
    "    + geom_smooth(\n",
    "        method=\"lm\", data=texas_compare[texas_compare [\"Months from Policy Change\"] < 0]\n",
    "    )\n",
    "    + geom_smooth(\n",
    "        method=\"lm\", data=texas_compare[texas_compare[\"Months from Policy Change\"] >= 0]\n",
    "    )\n",
    "    + geom_vline(xintercept=0, linetype=\"dashed\")\n",
    "    + geom_text(x=0, y=0.35, label=\"Policy Change\", color=\"black\")\n",
    "    + labs(y = \"Opioid Per Capita\",\n",
    "        title=\"Diff-in-Diff Model Graph, Ineffective Policy Intervention\",\n",
    "        color=\"Counties in State with Policy Change\"\n",
    "    )\n",
    "    + theme(legend_position=\"right\")\n",
    ")\n",
    "print(g_did)"
   ]
  },
  {
   "cell_type": "code",
   "execution_count": 24,
   "metadata": {},
   "outputs": [],
   "source": [
    "g_did.save(\"tx_monthly_did_notsure.pdf\")"
   ]
  },
  {
   "cell_type": "markdown",
   "metadata": {},
   "source": [
    "We selected Mississippi, Montana, and Connecticut as control groups. Compared to the control group, even though the amount of opioid shipment per capita in Texas is lower after January 2010, the trends are similar in Texas and control groups and Texas has a slightly bigger slip. Therefore, we cannot conclude whether the control policy was successfully in controlling the opioid shipments in Texas."
   ]
  }
 ],
 "metadata": {
  "kernelspec": {
   "display_name": "Python 3.10.6 ('base')",
   "language": "python",
   "name": "python3"
  },
  "language_info": {
   "codemirror_mode": {
    "name": "ipython",
    "version": 3
   },
   "file_extension": ".py",
   "mimetype": "text/x-python",
   "name": "python",
   "nbconvert_exporter": "python",
   "pygments_lexer": "ipython3",
   "version": "3.10.6"
  },
  "orig_nbformat": 4,
  "vscode": {
   "interpreter": {
    "hash": "af8259ad5c1c9c7a69bd6ea085234cf8fd3a6a37a71ca551828b314c4d89b0ad"
   }
  }
 },
 "nbformat": 4,
 "nbformat_minor": 2
}
